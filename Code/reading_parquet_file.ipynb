{
 "cells": [
  {
   "cell_type": "code",
   "execution_count": 1,
   "metadata": {},
   "outputs": [
    {
     "name": "stderr",
     "output_type": "stream",
     "text": [
      "Matplotlib is building the font cache; this may take a moment.\n"
     ]
    }
   ],
   "source": [
    "import pandas as pd\n",
    "import open3d as o3d\n",
    "import numpy as np\n",
    "import matplotlib.pyplot as plt\n",
    "from mpl_toolkits.mplot3d import Axes3D\n"
   ]
  },
  {
   "cell_type": "code",
   "execution_count": 2,
   "metadata": {},
   "outputs": [],
   "source": [
    "parquet_file_path = '/Users/sid/Desktop/Personel/SJSU/PP CP Research/Data/training_lidar_10017090168044687777_6380_000_6400_000.parquet'\n",
    "df = pd.read_parquet(parquet_file_path)\n"
   ]
  },
  {
   "cell_type": "code",
   "execution_count": 8,
   "metadata": {},
   "outputs": [
    {
     "data": {
      "text/plain": [
       "Index(['key.segment_context_name', 'key.frame_timestamp_micros',\n",
       "       'key.laser_name', '[LiDARComponent].range_image_return1.values',\n",
       "       '[LiDARComponent].range_image_return1.shape',\n",
       "       '[LiDARComponent].range_image_return2.values',\n",
       "       '[LiDARComponent].range_image_return2.shape'],\n",
       "      dtype='object')"
      ]
     },
     "execution_count": 8,
     "metadata": {},
     "output_type": "execute_result"
    }
   ],
   "source": [
    "df.columns"
   ]
  },
  {
   "cell_type": "code",
   "execution_count": 9,
   "metadata": {},
   "outputs": [
    {
     "data": {
      "text/plain": [
       "Index(['key.segment_context_name', 'key.frame_timestamp_micros',\n",
       "       'key.laser_name', '[LiDARComponent].range_image_return1.values',\n",
       "       '[LiDARComponent].range_image_return1.shape',\n",
       "       '[LiDARComponent].range_image_return2.values',\n",
       "       '[LiDARComponent].range_image_return2.shape'],\n",
       "      dtype='object')"
      ]
     },
     "execution_count": 9,
     "metadata": {},
     "output_type": "execute_result"
    }
   ],
   "source": [
    "df.columns"
   ]
  },
  {
   "cell_type": "code",
   "execution_count": 12,
   "metadata": {},
   "outputs": [],
   "source": [
    "range_image_return1_values = df['[LiDARComponent].range_image_return1.values']\n",
    "range_image_return1_shape = df['[LiDARComponent].range_image_return1.shape']"
   ]
  },
  {
   "cell_type": "code",
   "execution_count": 15,
   "metadata": {},
   "outputs": [
    {
     "data": {
      "text/plain": [
       "index\n",
       "10017090168044687777_6380_000_6400_000;1550083467346370    [20.885931, 0.19042969, 1.493107, -1.0, 18.936...\n",
       "10017090168044687777_6380_000_6400_000;1550083467346370    [-1.0, -1.0, -1.0, -1.0, -1.0, -1.0, -1.0, -1....\n",
       "10017090168044687777_6380_000_6400_000;1550083467346370    [-1.0, -1.0, -1.0, -1.0, -1.0, -1.0, -1.0, -1....\n",
       "10017090168044687777_6380_000_6400_000;1550083467346370    [-1.0, -1.0, -1.0, -1.0, -1.0, -1.0, -1.0, -1....\n",
       "10017090168044687777_6380_000_6400_000;1550083467346370    [-1.0, -1.0, -1.0, -1.0, -1.0, -1.0, -1.0, -1....\n",
       "Name: [LiDARComponent].range_image_return1.values, dtype: object"
      ]
     },
     "execution_count": 15,
     "metadata": {},
     "output_type": "execute_result"
    }
   ],
   "source": [
    "range_image_return1_values.head()"
   ]
  },
  {
   "cell_type": "code",
   "execution_count": 13,
   "metadata": {},
   "outputs": [
    {
     "data": {
      "text/plain": [
       "index\n",
       "10017090168044687777_6380_000_6400_000;1550083467346370    [64, 2650, 4]\n",
       "10017090168044687777_6380_000_6400_000;1550083467346370    [200, 600, 4]\n",
       "10017090168044687777_6380_000_6400_000;1550083467346370    [200, 600, 4]\n",
       "10017090168044687777_6380_000_6400_000;1550083467346370    [200, 600, 4]\n",
       "10017090168044687777_6380_000_6400_000;1550083467346370    [200, 600, 4]\n",
       "                                                               ...      \n",
       "10017090168044687777_6380_000_6400_000;1550083487048517    [64, 2650, 4]\n",
       "10017090168044687777_6380_000_6400_000;1550083487048517    [200, 600, 4]\n",
       "10017090168044687777_6380_000_6400_000;1550083487048517    [200, 600, 4]\n",
       "10017090168044687777_6380_000_6400_000;1550083487048517    [200, 600, 4]\n",
       "10017090168044687777_6380_000_6400_000;1550083487048517    [200, 600, 4]\n",
       "Name: [LiDARComponent].range_image_return1.shape, Length: 990, dtype: object"
      ]
     },
     "execution_count": 13,
     "metadata": {},
     "output_type": "execute_result"
    }
   ],
   "source": [
    "range_image_return1_shape"
   ]
  },
  {
   "cell_type": "code",
   "execution_count": 16,
   "metadata": {},
   "outputs": [],
   "source": [
    "range_image_return2_values = df['[LiDARComponent].range_image_return2.values']\n",
    "range_image_return2_shape = df['[LiDARComponent].range_image_return2.shape']"
   ]
  },
  {
   "cell_type": "code",
   "execution_count": 19,
   "metadata": {},
   "outputs": [
    {
     "data": {
      "text/plain": [
       "index\n",
       "10017090168044687777_6380_000_6400_000;1550083467346370    [-1.0, -1.0, -1.0, -1.0, 21.003038, 0.14941406...\n",
       "10017090168044687777_6380_000_6400_000;1550083467346370    [-1.0, -1.0, -1.0, -1.0, -1.0, -1.0, -1.0, -1....\n",
       "10017090168044687777_6380_000_6400_000;1550083467346370    [-1.0, -1.0, -1.0, -1.0, -1.0, -1.0, -1.0, -1....\n",
       "10017090168044687777_6380_000_6400_000;1550083467346370    [-1.0, -1.0, -1.0, -1.0, -1.0, -1.0, -1.0, -1....\n",
       "10017090168044687777_6380_000_6400_000;1550083467346370    [-1.0, -1.0, -1.0, -1.0, -1.0, -1.0, -1.0, -1....\n",
       "Name: [LiDARComponent].range_image_return2.values, dtype: object"
      ]
     },
     "execution_count": 19,
     "metadata": {},
     "output_type": "execute_result"
    }
   ],
   "source": [
    "range_image_return2_values.head()"
   ]
  },
  {
   "cell_type": "code",
   "execution_count": 20,
   "metadata": {},
   "outputs": [
    {
     "data": {
      "text/plain": [
       "index\n",
       "10017090168044687777_6380_000_6400_000;1550083467346370    [64, 2650, 4]\n",
       "10017090168044687777_6380_000_6400_000;1550083467346370    [200, 600, 4]\n",
       "10017090168044687777_6380_000_6400_000;1550083467346370    [200, 600, 4]\n",
       "10017090168044687777_6380_000_6400_000;1550083467346370    [200, 600, 4]\n",
       "10017090168044687777_6380_000_6400_000;1550083467346370    [200, 600, 4]\n",
       "Name: [LiDARComponent].range_image_return2.shape, dtype: object"
      ]
     },
     "execution_count": 20,
     "metadata": {},
     "output_type": "execute_result"
    }
   ],
   "source": [
    "range_image_return2_shape.head()"
   ]
  },
  {
   "cell_type": "code",
   "execution_count": 21,
   "metadata": {},
   "outputs": [],
   "source": [
    "def create_range_point_cloud(value, shape):\n",
    "  \n",
    "  range_image = np.array(value)\n",
    "  range_image_reshaped = range_image.reshape(shape)\n",
    "\n",
    "  \n",
    "  ranges = range_image_reshaped[..., 0]\n",
    "  azimuths = range_image_reshaped[..., 1]\n",
    "  elevations = range_image_reshaped[..., 2]\n",
    "\n",
    "  \n",
    "  x = ranges * np.cos(elevations) * np.sin(azimuths)\n",
    "  y = ranges * np.cos(elevations) * np.cos(azimuths)\n",
    "  z = ranges * np.sin(elevations)\n",
    "\n",
    "  \n",
    "  points = np.stack((x, y, z), axis=-1).reshape(-1, 3)\n",
    "\n",
    "  \n",
    "  point_cloud = o3d.geometry.PointCloud()\n",
    "  point_cloud.points = o3d.utility.Vector3dVector(points)\n",
    "\n",
    "  \n",
    "  o3d.visualization.draw_geometries([point_cloud])"
   ]
  },
  {
   "cell_type": "code",
   "execution_count": 23,
   "metadata": {},
   "outputs": [
    {
     "name": "stdout",
     "output_type": "stream",
     "text": [
      "\u001b[1;33m[Open3D WARNING] GLFW Error: Cocoa: Failed to find service port for display\u001b[0;m\n",
      "\u001b[1;33m[Open3D WARNING] GLFW Error: Cocoa: Failed to find service port for display\u001b[0;m\n"
     ]
    },
    {
     "ename": "",
     "evalue": "",
     "output_type": "error",
     "traceback": [
      "\u001b[1;31mThe Kernel crashed while executing code in the current cell or a previous cell. \n",
      "\u001b[1;31mPlease review the code in the cell(s) to identify a possible cause of the failure. \n",
      "\u001b[1;31mClick <a href='https://aka.ms/vscodeJupyterKernelCrash'>here</a> for more info. \n",
      "\u001b[1;31mView Jupyter <a href='command:jupyter.viewOutput'>log</a> for further details."
     ]
    }
   ],
   "source": [
    "value = range_image_return1_values.iloc[0]\n",
    "shape = range_image_return1_shape.iloc[0]\n",
    "create_range_point_cloud(value, shape)"
   ]
  },
  {
   "cell_type": "code",
   "execution_count": null,
   "metadata": {},
   "outputs": [],
   "source": [
    "points = df[['x', 'y', 'z']].to_numpy()\n",
    "\n",
    "\n",
    "point_cloud = o3d.geometry.PointCloud()\n",
    "point_cloud.points = o3d.utility.Vector3dVector(points)\n",
    "\n",
    "\n",
    "o3d.visualization.draw_geometries([point_cloud])"
   ]
  }
 ],
 "metadata": {
  "kernelspec": {
   "display_name": "thesis_env",
   "language": "python",
   "name": "python3"
  },
  "language_info": {
   "codemirror_mode": {
    "name": "ipython",
    "version": 3
   },
   "file_extension": ".py",
   "mimetype": "text/x-python",
   "name": "python",
   "nbconvert_exporter": "python",
   "pygments_lexer": "ipython3",
   "version": "3.11.5"
  }
 },
 "nbformat": 4,
 "nbformat_minor": 2
}
